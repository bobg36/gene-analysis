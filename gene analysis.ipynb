{
 "cells": [
  {
   "cell_type": "code",
   "execution_count": 3,
   "metadata": {},
   "outputs": [],
   "source": [
    "import csv\n",
    "\n",
    "# Initialize counters for r1 and r2 inheritance\n",
    "total_r1_inheritance_count = 0\n",
    "total_r2_inheritance_count = 0\n",
    "r1_presence_count = 0\n",
    "r2_presence_count = 0\n",
    "\n",
    "# Open and read the CSV file\n",
    "with open('updated_goodcpgenes.csv', 'r') as csvfile:\n",
    "    reader = csv.DictReader(csvfile)\n",
    "    for row in reader:\n",
    "        # Extract the gene strings\n",
    "        child_genes = row['childGenes']\n",
    "        matron_genes = row['matronGenes']\n",
    "        sire_genes = row['sireGenes']\n",
    "        \n",
    "        # Check if 'r1' and 'r2' are present in either matron or sire genes\n",
    "        matron_has_r1 = 'r1' in matron_genes\n",
    "        matron_has_r2 = 'r2' in matron_genes\n",
    "        sire_has_r1 = 'r1' in sire_genes\n",
    "        sire_has_r2 = 'r2' in sire_genes\n",
    "        \n",
    "        # Update presence counts\n",
    "        if matron_has_r1 or sire_has_r1:\n",
    "            r1_presence_count += 1\n",
    "        if matron_has_r2 or sire_has_r2:\n",
    "            r2_presence_count += 1\n",
    "        \n",
    "        # Calculate inheritance counts\n",
    "        if 'r1' in child_genes:\n",
    "            total_r1_inheritance_count += 1\n",
    "        if 'r2' in child_genes:\n",
    "            total_r2_inheritance_count += 1\n",
    "\n",
    "# Calculate the inheritance rates\n",
    "r1_inheritance_rate = (total_r1_inheritance_count / r1_presence_count) * 100\n",
    "r2_inheritance_rate = (total_r2_inheritance_count / r2_presence_count) * 100\n",
    "\n",
    "# Print the results\n",
    "print(f\"Inheritance Rate of 'r1': {r1_inheritance_rate:.2f}%\")\n",
    "print(f\"Inheritance Rate of 'r2': {r2_inheritance_rate:.2f}%\")\n"
   ]
  }
 ],
 "metadata": {
  "kernelspec": {
   "display_name": "Python 3",
   "language": "python",
   "name": "python3"
  },
  "language_info": {
   "codemirror_mode": {
    "name": "ipython",
    "version": 3
   },
   "file_extension": ".py",
   "mimetype": "text/x-python",
   "name": "python",
   "nbconvert_exporter": "python",
   "pygments_lexer": "ipython3",
   "version": "3.9.4"
  }
 },
 "nbformat": 4,
 "nbformat_minor": 2
}
