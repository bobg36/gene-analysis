{
 "cells": [
  {
   "cell_type": "code",
   "execution_count": 6,
   "metadata": {},
   "outputs": [
    {
     "name": "stdout",
     "output_type": "stream",
     "text": [
      "Inheritance Rate of 'r1': 8.33%\n",
      "Inheritance Rate of 'r2': 8.33%\n"
     ]
    }
   ],
   "source": [
    "import csv\n",
    "\n",
    "# Initialize counters for r1 and r2 inheritance\n",
    "r1_inheritance_count = 0\n",
    "r2_inheritance_count = 0\n",
    "total_r1_count = 0\n",
    "total_r2_count = 0\n",
    "\n",
    "# Open and read the CSV file\n",
    "with open('updated_goodcpgenes.csv', 'r') as csvfile:\n",
    "    reader = csv.DictReader(csvfile)\n",
    "    for row in reader:\n",
    "        # Extract the gene strings\n",
    "        child_genes = row['childGenes']\n",
    "        matron_genes = row['matronGenes']\n",
    "        sire_genes = row['sireGenes']\n",
    "        \n",
    "        # Count the occurrences of 'r1' and 'r2' in each gene string\n",
    "        r1_count_child = child_genes.count('r1')\n",
    "        r2_count_child = child_genes.count('r2')\n",
    "        r1_count_matron = matron_genes.count('r1')\n",
    "        r2_count_matron = matron_genes.count('r2')\n",
    "        r1_count_sire = sire_genes.count('r1')\n",
    "        r2_count_sire = sire_genes.count('r2')\n",
    "        \n",
    "        # Update the total counts for 'r1' and 'r2' in matron and sire genes\n",
    "        total_r1_count += r1_count_matron + r1_count_sire\n",
    "        total_r2_count += r2_count_matron + r2_count_sire\n",
    "        \n",
    "        # Update the inheritance counts for 'r1' and 'r2'\n",
    "        if r1_count_child > 0:\n",
    "            r1_inheritance_count += 1\n",
    "        if r2_count_child > 0:\n",
    "            r2_inheritance_count += 1\n",
    "\n",
    "# Calculate the inheritance rates\n",
    "if total_r1_count > 0:\n",
    "    r1_inheritance_rate = (r1_inheritance_count / total_r1_count) * 100\n",
    "else:\n",
    "    r1_inheritance_rate = 0.0\n",
    "\n",
    "if total_r2_count > 0:\n",
    "    r2_inheritance_rate = (r2_inheritance_count / total_r2_count) * 100\n",
    "else:\n",
    "    r2_inheritance_rate = 0.0\n",
    "\n",
    "# Print the results\n",
    "print(f\"Inheritance Rate of 'r1': {r1_inheritance_rate:.2f}%\")\n",
    "print(f\"Inheritance Rate of 'r2': {r2_inheritance_rate:.2f}%\")\n"
   ]
  },
  {
   "cell_type": "code",
   "execution_count": null,
   "metadata": {},
   "outputs": [],
   "source": [
    "import pandas as pd\n",
    "\n",
    "# Read the CSV file into a DataFrame\n",
    "df = pd.read_csv('updated_goodcpgenes.csv')\n",
    "\n",
    "# Split the genes into separate columns for r1 and r2\n",
    "df['mouth_r1'] = df['childGenes'].str.split(',').str[1].str.split(':').str[1].str.strip()\n",
    "df['mouth_r2'] = df['childGenes'].str.split(',').str[2].str.split(':').str[1].str.strip()\n",
    "df['eyes_r1'] = df['childGenes'].str.split(',').str[4].str.split(':').str[1].str.strip()\n",
    "df['eyes_r2'] = df['childGenes'].str.split(',').str[5].str.split(':').str[1].str.strip()\n",
    "df['ears_r1'] = df['childGenes'].str.split(',').str[7].str.split(':').str[1].str.strip()\n",
    "df['ears_r2'] = df['childGenes'].str.split(',').str[8].str.split(':').str[1].str.strip()\n",
    "\n",
    "# Check if the child inherits \"r1\" and \"r2\" genes from the matron and sire for the mouth attribute\n",
    "df['mouth_r1_inherited'] = df['mouth_r1'] == df['matronGenes'].str.split(',').str[1].str.split(':').str[1].str.strip()\n",
    "df['mouth_r2_inherited'] = df['mouth_r2'] == df['matronGenes'].str.split(',').str[2].str.split(':').str[1].str.strip()\n",
    "\n",
    "\n"
   ]
  }
 ],
 "metadata": {
  "kernelspec": {
   "display_name": "Python 3",
   "language": "python",
   "name": "python3"
  },
  "language_info": {
   "codemirror_mode": {
    "name": "ipython",
    "version": 3
   },
   "file_extension": ".py",
   "mimetype": "text/x-python",
   "name": "python",
   "nbconvert_exporter": "python",
   "pygments_lexer": "ipython3",
   "version": "3.9.4"
  }
 },
 "nbformat": 4,
 "nbformat_minor": 2
}
